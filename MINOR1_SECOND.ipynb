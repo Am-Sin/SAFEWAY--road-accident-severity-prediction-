{
 "cells": [
  {
   "cell_type": "code",
   "execution_count": null,
   "id": "dc1b21a9",
   "metadata": {},
   "outputs": [],
   "source": [
    "!pip install dabl"
   ]
  },
  {
   "cell_type": "markdown",
   "id": "8a834ab4",
   "metadata": {},
   "source": [
    "## IMPORTING LIBRARIES"
   ]
  },
  {
   "cell_type": "code",
   "execution_count": null,
   "id": "11ab0390",
   "metadata": {},
   "outputs": [],
   "source": [
    "import numpy as np \n",
    "import pandas as pd \n",
    "import matplotlib.pyplot as plt\n",
    "import seaborn as sns\n",
    "from sklearn.feature_selection import SelectKBest\n",
    "from sklearn.preprocessing import LabelEncoder, OrdinalEncoder\n",
    "from sklearn.feature_selection import chi2\n",
    "from sklearn.feature_selection import mutual_info_classif\n",
    "from sklearn.decomposition import PCA\n",
    "from imblearn.over_sampling import SMOTENC\n",
    "from sklearn.model_selection import train_test_split\n",
    "from sklearn.model_selection import cross_val_score\n",
    "from sklearn.ensemble import RandomForestClassifier\n",
    "from sklearn.ensemble import GradientBoostingClassifier\n",
    "from sklearn.metrics import confusion_matrix, classification_report, f1_score\n",
    "import joblib\n",
    "from PIL import Image\n",
    "import PIL\n",
    "\n",
    "%matplotlib inline"
   ]
  },
  {
   "cell_type": "code",
   "execution_count": null,
   "id": "1e0ba8d6",
   "metadata": {},
   "outputs": [],
   "source": [
    "!pip install shap"
   ]
  },
  {
   "cell_type": "markdown",
   "id": "83f14c43",
   "metadata": {},
   "source": [
    "## IMPORTING THE DATASET "
   ]
  },
  {
   "cell_type": "code",
   "execution_count": null,
   "id": "6c642b25",
   "metadata": {},
   "outputs": [],
   "source": [
    "df = pd.read_csv(\"RTA Dataset.csv\")"
   ]
  },
  {
   "cell_type": "markdown",
   "id": "0708f61f",
   "metadata": {},
   "source": [
    "## EXPLORATORY DATA ANALYSIS"
   ]
  },
  {
   "cell_type": "code",
   "execution_count": null,
   "id": "b4c04ccb",
   "metadata": {},
   "outputs": [],
   "source": [
    "df.head()"
   ]
  },
  {
   "cell_type": "code",
   "execution_count": null,
   "id": "0796c06b",
   "metadata": {},
   "outputs": [],
   "source": [
    "df.tail()"
   ]
  },
  {
   "cell_type": "code",
   "execution_count": null,
   "id": "ec763d85",
   "metadata": {},
   "outputs": [],
   "source": [
    "df.info()"
   ]
  },
  {
   "cell_type": "code",
   "execution_count": null,
   "id": "89794e0e",
   "metadata": {},
   "outputs": [],
   "source": [
    "df.isnull().sum()"
   ]
  },
  {
   "cell_type": "code",
   "execution_count": null,
   "id": "dabaa3ef",
   "metadata": {},
   "outputs": [],
   "source": [
    "print(df['Accident_severity'].value_counts())\n",
    "df['Accident_severity'].value_counts().plot(kind='bar')"
   ]
  },
  {
   "cell_type": "code",
   "execution_count": null,
   "id": "ebc16aad",
   "metadata": {},
   "outputs": [],
   "source": [
    "print(df['Accident_severity'].value_counts())\n",
    "df['Accident_severity'].value_counts().plot(kind='hist', color ='black')"
   ]
  },
  {
   "cell_type": "code",
   "execution_count": null,
   "id": "44457f9c",
   "metadata": {},
   "outputs": [],
   "source": [
    "df['Educational_level'].value_counts().plot(kind='bar')"
   ]
  },
  {
   "cell_type": "code",
   "execution_count": null,
   "id": "9591a27d",
   "metadata": {},
   "outputs": [],
   "source": [
    "df['Educational_level'].value_counts().plot(kind='pie')"
   ]
  },
  {
   "cell_type": "code",
   "execution_count": null,
   "id": "4b41dad0",
   "metadata": {},
   "outputs": [],
   "source": [
    "plt.figure(figsize=(6,5))\n",
    "sns.catplot(x='Educational_level', y='Accident_severity', data=df)\n",
    "plt.xlabel(\"Educational level\")\n",
    "plt.xticks(rotation=60)\n",
    "plt.show()"
   ]
  },
  {
   "cell_type": "markdown",
   "id": "6aa75a39",
   "metadata": {},
   "source": [
    "## THE FOLLOWING CAN BE CONCLUDED FROM THE INITIAL DATA ANALYSIS \n"
   ]
  },
  {
   "cell_type": "raw",
   "id": "fd954d2d",
   "metadata": {},
   "source": [
    "-More the Number of casualties, higher the chances of fatal injuries at accident site\n",
    "-More the vehicles involved higher the chances of Serious injury\n",
    "-Light_conditions being darkness can cause higher serious injury\n",
    "-data is highly imbalanced\n",
    "-Features like area_accident_occured, Cause_of_accident, Day_of_week, type_of_junction seem to be imporatant features causing fatal injuries\n",
    "-Road_surface and road conditions do not affect fatal or serious accidents apparently"
   ]
  },
  {
   "cell_type": "markdown",
   "id": "3bf6dbbb",
   "metadata": {},
   "source": [
    "## EFFECT OF ROAD SURFACE ON INJURIES "
   ]
  },
  {
   "cell_type": "code",
   "execution_count": null,
   "id": "c542f06d",
   "metadata": {},
   "outputs": [],
   "source": [
    "print(df['Road_surface_type'].value_counts())\n",
    "\n",
    "plt.figure(figsize=(6,5))\n",
    "sns.countplot(x='Road_surface_type', hue='Accident_severity', data=df)\n",
    "plt.xlabel('Rode surafce type')\n",
    "plt.xticks(rotation=60)\n",
    "plt.show"
   ]
  },
  {
   "cell_type": "code",
   "execution_count": null,
   "id": "6ee12136",
   "metadata": {},
   "outputs": [],
   "source": [
    "print(df['Road_surface_conditions'].value_counts())\n",
    "\n",
    "plt.figure(figsize=(6,5))\n",
    "sns.countplot(x='Road_surface_conditions', hue='Accident_severity', data=df)\n",
    "plt.xlabel('Rode condition type')\n",
    "plt.xticks(rotation=60)\n",
    "plt.show"
   ]
  },
  {
   "cell_type": "code",
   "execution_count": null,
   "id": "e6454baf",
   "metadata": {},
   "outputs": [],
   "source": [
    "pivot_df = pd.pivot_table(data=df, \n",
    "               index='Road_surface_conditions', \n",
    "               columns='Accident_severity',\n",
    "               aggfunc='count')\n",
    "\n",
    "fatal_df = pivot_df['Road_surface_type']\n",
    "fatal_df.fillna(0, inplace=True)\n",
    "fatal_df['sum_of_injuries'] = fatal_df['Fatal injury'] + fatal_df['Serious Injury'] + fatal_df['Slight Injury']\n",
    "fatal_df"
   ]
  },
  {
   "cell_type": "code",
   "execution_count": null,
   "id": "fd6baa17",
   "metadata": {},
   "outputs": [],
   "source": [
    "fatal_df_dry = (fatal_df.loc['Dry']/fatal_df.loc['Dry','sum_of_injuries'])*100\n",
    "fatal_df_dry"
   ]
  },
  {
   "cell_type": "code",
   "execution_count": null,
   "id": "be6b7959",
   "metadata": {},
   "outputs": [],
   "source": [
    "fatal_df_snow = (fatal_df.loc['Wet or damp']/fatal_df.loc['Wet or damp','sum_of_injuries'])*100\n",
    "fatal_df_snow"
   ]
  },
  {
   "cell_type": "code",
   "execution_count": null,
   "id": "aee2ce78",
   "metadata": {},
   "outputs": [],
   "source": [
    "df.groupby('Road_surface_conditions')['Accident_severity'].count()"
   ]
  },
  {
   "cell_type": "markdown",
   "id": "d261cacb",
   "metadata": {},
   "source": [
    "## CONVERTING \"TIME\" FEATURE INTO DATETIME FORMAT"
   ]
  },
  {
   "cell_type": "code",
   "execution_count": null,
   "id": "640a27c3",
   "metadata": {},
   "outputs": [],
   "source": [
    "df['Time'] = pd.to_datetime(df['Time'])"
   ]
  },
  {
   "cell_type": "code",
   "execution_count": null,
   "id": "04622c7d",
   "metadata": {},
   "outputs": [],
   "source": [
    "obj_cols = [col for col in df.columns if df[col].dtypes == 'object']\n",
    "obj_cols2 = [col for col in obj_cols if col != 'Accident_severity']\n",
    "obj_cols2"
   ]
  },
  {
   "cell_type": "code",
   "execution_count": null,
   "id": "fa6f2bbe",
   "metadata": {},
   "outputs": [],
   "source": [
    "new_df = df.copy()\n",
    "new_df['Hour_of_Day'] = new_df['Time'].dt.hour\n",
    "n_df = new_df.drop('Time', axis=1)\n",
    "n_df"
   ]
  },
  {
   "cell_type": "markdown",
   "id": "4ef45de9",
   "metadata": {},
   "source": [
    "## DATA VISUALIZATION"
   ]
  },
  {
   "cell_type": "code",
   "execution_count": null,
   "id": "af8f28f3",
   "metadata": {},
   "outputs": [],
   "source": [
    "def count_plot(col):\n",
    "    n_df[col].value_counts()\n",
    "    \n",
    "    # plot the figure of count plot\n",
    "    plt.figure(figsize=(5,5))\n",
    "    sns.countplot(x=col, hue='Accident_severity', data=n_df)\n",
    "    plt.xlabel(f'{col}')\n",
    "    plt.xticks(rotation=60)\n",
    "    plt.show\n",
    "    \n",
    "for col in obj_cols:\n",
    "    count_plot(col)"
   ]
  },
  {
   "cell_type": "code",
   "execution_count": null,
   "id": "9e691b75",
   "metadata": {},
   "outputs": [],
   "source": [
    "plt.figure(figsize=(5,5))\n",
    "sns.displot(x='Hour_of_Day', hue='Accident_severity', data=n_df)\n",
    "plt.show()"
   ]
  },
  {
   "cell_type": "markdown",
   "id": "d5496351",
   "metadata": {},
   "source": [
    "## FINAL INSIGHTS AND FURTHER STEPS\n",
    "\n"
   ]
  },
  {
   "cell_type": "raw",
   "id": "f3cd41b6",
   "metadata": {},
   "source": [
    "-Hour_of_Day seems important to predict target\n",
    "-Lots of redundant features needs to be removed\n",
    "-Initially, Total 18 features are selected based on EDA and basic understanding of domain knowledge\n",
    "-Handle the missing values in these 20 features\n",
    "-Feature selection using scikit-libraries\n",
    "-Encoding categorical features\n",
    "-Handle imbalance dataset \n",
    "-features standardization \n",
    "-modelling\n",
    "-Evalution and Hyper-parameter tuning\n",
    "-selecting 17 features based on EDA insights and their informativeness to target feature"
   ]
  },
  {
   "cell_type": "markdown",
   "id": "d9cf8037",
   "metadata": {},
   "source": [
    "## DATA PREPROCESSING"
   ]
  },
  {
   "cell_type": "code",
   "execution_count": null,
   "id": "5070d35f",
   "metadata": {},
   "outputs": [],
   "source": [
    "features = ['Day_of_week','Number_of_vehicles_involved','Number_of_casualties','Area_accident_occured',\n",
    "           'Types_of_Junction','Age_band_of_driver','Sex_of_driver','Educational_level',\n",
    "           'Vehicle_driver_relation','Type_of_vehicle','Driving_experience','Service_year_of_vehicle','Type_of_collision',\n",
    "           'Sex_of_casualty','Age_band_of_casualty','Cause_of_accident','Hour_of_Day']\n",
    "len(features)"
   ]
  },
  {
   "cell_type": "code",
   "execution_count": null,
   "id": "c39ee164",
   "metadata": {},
   "outputs": [],
   "source": [
    "featureset_df = n_df[features]\n",
    "target = n_df['Accident_severity']"
   ]
  },
  {
   "cell_type": "code",
   "execution_count": null,
   "id": "4b43086c",
   "metadata": {},
   "outputs": [],
   "source": [
    "featureset_df.info()"
   ]
  },
  {
   "cell_type": "markdown",
   "id": "68eeff60",
   "metadata": {},
   "source": [
    "## MISSING VALUE TREATMENT "
   ]
  },
  {
   "cell_type": "code",
   "execution_count": null,
   "id": "a6760f99",
   "metadata": {},
   "outputs": [],
   "source": [
    "feature_df = featureset_df.copy()"
   ]
  },
  {
   "cell_type": "markdown",
   "id": "c59f612d",
   "metadata": {},
   "source": [
    "### REPLACING THE MISSING VALUES WITH \"Unknown\""
   ]
  },
  {
   "cell_type": "code",
   "execution_count": null,
   "id": "3558c9e2",
   "metadata": {},
   "outputs": [],
   "source": [
    "feature_df['Service_year_of_vehicle'] = feature_df['Service_year_of_vehicle'].fillna('Unknown')\n",
    "feature_df['Types_of_Junction'] = feature_df['Types_of_Junction'].fillna('Unknown')\n",
    "feature_df['Area_accident_occured'] = feature_df['Area_accident_occured'].fillna('Unknown')\n",
    "feature_df['Driving_experience'] = feature_df['Driving_experience'].fillna('unknown')\n",
    "feature_df['Type_of_vehicle'] = feature_df['Type_of_vehicle'].fillna('Other')\n",
    "feature_df['Vehicle_driver_relation'] = feature_df['Vehicle_driver_relation'].fillna('Unknown')\n",
    "feature_df['Educational_level'] = feature_df['Educational_level'].fillna('Unknown')\n",
    "feature_df['Type_of_collision'] = feature_df['Type_of_collision'].fillna('Unknown')"
   ]
  },
  {
   "cell_type": "code",
   "execution_count": null,
   "id": "5f241c52",
   "metadata": {},
   "outputs": [],
   "source": [
    "feature_df.info()"
   ]
  },
  {
   "cell_type": "markdown",
   "id": "51dff720",
   "metadata": {},
   "source": [
    "## ONE HOT ENCODING "
   ]
  },
  {
   "cell_type": "code",
   "execution_count": null,
   "id": "1cbf9327",
   "metadata": {},
   "outputs": [],
   "source": [
    "X = feature_df[features]\n",
    "y = target"
   ]
  },
  {
   "cell_type": "code",
   "execution_count": null,
   "id": "3aa54c59",
   "metadata": {},
   "outputs": [],
   "source": [
    "encoded_df = pd.get_dummies(X, drop_first=True)\n",
    "encoded_df.shape"
   ]
  },
  {
   "cell_type": "markdown",
   "id": "9b3afe68",
   "metadata": {},
   "source": [
    "## LABEL ENCODING OF TARGET FEATURE "
   ]
  },
  {
   "cell_type": "code",
   "execution_count": null,
   "id": "54df4045",
   "metadata": {},
   "outputs": [],
   "source": [
    "lb = LabelEncoder()\n",
    "lb.fit(y)\n",
    "y_encoded = lb.transform(y)\n",
    "print(\"Encoded labels:\",lb.classes_)\n",
    "y_en = pd.Series(y_encoded)"
   ]
  },
  {
   "cell_type": "markdown",
   "id": "7e303990",
   "metadata": {},
   "source": [
    "### FEATURE SELECTION USING K BEST CHI2 METHOD"
   ]
  },
  {
   "cell_type": "code",
   "execution_count": null,
   "id": "213194cc",
   "metadata": {},
   "outputs": [],
   "source": [
    "mi_calc = mutual_info_classif(encoded_df, y_en, random_state=42)"
   ]
  },
  {
   "cell_type": "code",
   "execution_count": null,
   "id": "c1ed5119",
   "metadata": {},
   "outputs": [],
   "source": [
    "mi_df = pd.DataFrame({'Columns':encoded_df.columns, 'MI_score':mi_calc})\n",
    "mi_df.sort_values(by='MI_score',ascending=False).head(15)"
   ]
  },
  {
   "cell_type": "code",
   "execution_count": null,
   "id": "22e6f6d7",
   "metadata": {},
   "outputs": [],
   "source": [
    "fs = SelectKBest(chi2, k=50)\n",
    "X_new = fs.fit_transform(encoded_df, y_en)\n",
    "X_new.shape\n",
    "cols = fs.get_feature_names_out()"
   ]
  },
  {
   "cell_type": "code",
   "execution_count": null,
   "id": "6e531a35",
   "metadata": {},
   "outputs": [],
   "source": [
    "fs_df = pd.DataFrame(X_new, columns=cols)"
   ]
  },
  {
   "cell_type": "markdown",
   "id": "05332136",
   "metadata": {},
   "source": [
    "## PRINCIPAL COMPONENT ANALYSIS "
   ]
  },
  {
   "cell_type": "code",
   "execution_count": null,
   "id": "8d2327b0",
   "metadata": {},
   "outputs": [],
   "source": [
    "pca = PCA(n_components=3)\n",
    "pca.fit(encoded_df)\n",
    "\n",
    "X_pca = pca.transform(encoded_df)\n",
    "\n",
    "components = pca.components_\n",
    "\n",
    "pca_df = pd.DataFrame(X_pca, columns=[\"PC1\",\"PC2\",\"PC3\"])\n",
    "pca_df.var()"
   ]
  },
  {
   "cell_type": "markdown",
   "id": "748c886e",
   "metadata": {},
   "source": [
    "### IMBALANCE DATA TREATMENT "
   ]
  },
  {
   "cell_type": "code",
   "execution_count": null,
   "id": "84965aec",
   "metadata": {},
   "outputs": [],
   "source": [
    "n_cat_index = np.array(range(3,50))\n",
    "\n",
    "smote = SMOTENC(categorical_features=n_cat_index, random_state=42, n_jobs=True)\n",
    "X_n, y_n = smote.fit_resample(fs_df,y_en)\n",
    "X_n.shape, y_n.shape"
   ]
  },
  {
   "cell_type": "code",
   "execution_count": null,
   "id": "3549fff6",
   "metadata": {},
   "outputs": [],
   "source": [
    "y_n.value_counts()"
   ]
  },
  {
   "cell_type": "markdown",
   "id": "04222fc1",
   "metadata": {},
   "source": [
    "## MODELLING BASELINE AND HYPERPARAMTER TUNING OF RANDOM FOREST CLASSIFIER"
   ]
  },
  {
   "cell_type": "code",
   "execution_count": null,
   "id": "ecf79cdf",
   "metadata": {},
   "outputs": [],
   "source": [
    "# train and test split and building baseline model to predict target features\n",
    "X_trn, X_tst, y_trn, y_tst = train_test_split(X_n, y_n, test_size=0.2, random_state=42)\n",
    "\n",
    "# modelling using random forest baseline\n",
    "rf = RandomForestClassifier(n_estimators=800, max_depth=20, random_state=42)\n",
    "rf.fit(X_trn, y_trn)\n",
    "\n",
    "# predicting on test data\n",
    "predics = rf.predict(X_tst)"
   ]
  },
  {
   "cell_type": "code",
   "execution_count": null,
   "id": "876c3702",
   "metadata": {},
   "outputs": [],
   "source": [
    "rf.score(X_trn, y_trn)"
   ]
  },
  {
   "cell_type": "code",
   "execution_count": null,
   "id": "271c1b85",
   "metadata": {},
   "outputs": [],
   "source": [
    "classif_re = classification_report(y_tst,predics)\n",
    "print(classif_re)"
   ]
  },
  {
   "cell_type": "code",
   "execution_count": null,
   "id": "c39efeeb",
   "metadata": {},
   "outputs": [],
   "source": [
    "conf_matrix = confusion_matrix(y_tst, predics)\n",
    "conf_matrix"
   ]
  },
  {
   "cell_type": "code",
   "execution_count": null,
   "id": "8bd4a5ae",
   "metadata": {},
   "outputs": [],
   "source": [
    "f1score = f1_score(y_tst,predics, average='weighted')\n",
    "print(f1score)"
   ]
  },
  {
   "cell_type": "markdown",
   "id": "d47cd8e5",
   "metadata": {},
   "source": [
    "## MODELLING FOR DEPLOYMENT ON STREAMLIT CLOUD"
   ]
  },
  {
   "cell_type": "code",
   "execution_count": null,
   "id": "1b3db6ad",
   "metadata": {},
   "outputs": [],
   "source": [
    "cat_fea_df = feature_df.drop(['Hour_of_Day','Number_of_vehicles_involved','Number_of_casualties'], axis=1)\n",
    "\n",
    "oencoder = OrdinalEncoder()\n",
    "encoded_df2 = pd.DataFrame(oencoder.fit_transform(cat_fea_df))\n",
    "encoded_df2.columns = cat_fea_df.columns"
   ]
  },
  {
   "cell_type": "code",
   "execution_count": null,
   "id": "2b8597f3",
   "metadata": {},
   "outputs": [],
   "source": [
    "new_fea_df = feature_df[['Type_of_collision','Age_band_of_driver','Sex_of_driver',\n",
    "       'Educational_level','Service_year_of_vehicle','Day_of_week','Area_accident_occured']]\n",
    "\n",
    "oencoder2 = OrdinalEncoder()\n",
    "encoded_df3 = pd.DataFrame(oencoder2.fit_transform(new_fea_df))\n",
    "encoded_df3.columns = new_fea_df.columns"
   ]
  },
  {
   "cell_type": "code",
   "execution_count": null,
   "id": "fe89a053",
   "metadata": {},
   "outputs": [],
   "source": [
    "oencoder2.transform(new_fea_df.iloc[0:1,:]).reshape(1,-1)"
   ]
  },
  {
   "cell_type": "code",
   "execution_count": null,
   "id": "b4778579",
   "metadata": {},
   "outputs": [],
   "source": [
    "joblib.dump(oencoder, \"ordinal_encoder.joblib\")"
   ]
  },
  {
   "cell_type": "code",
   "execution_count": null,
   "id": "18234e1a",
   "metadata": {},
   "outputs": [],
   "source": [
    "joblib.dump(oencoder2, \"ordinal_encoder2.joblib\")"
   ]
  },
  {
   "cell_type": "code",
   "execution_count": null,
   "id": "b5102872",
   "metadata": {},
   "outputs": [],
   "source": [
    "final_df = pd.concat([encoded_df2,feature_df[['Hour_of_Day','Number_of_vehicles_involved','Number_of_casualties']]], axis=1)\n",
    "final_df.head()"
   ]
  },
  {
   "cell_type": "code",
   "execution_count": null,
   "id": "9bc1acd1",
   "metadata": {},
   "outputs": [],
   "source": [
    "mi_calc2 = mutual_info_classif(final_df, y_en, random_state=42)\n",
    "mi_df2 = pd.DataFrame({'Columns':final_df.columns, 'MI_score':mi_calc2})\n",
    "mi_df2_sorted = mi_df2.sort_values(by='MI_score',ascending=False)\n",
    "mi_df2_sorted"
   ]
  },
  {
   "cell_type": "code",
   "execution_count": null,
   "id": "59b37b0d",
   "metadata": {},
   "outputs": [],
   "source": [
    "cols_list = list(mi_df2_sorted['Columns'][:10])\n",
    "final_df2 = final_df[cols_list]"
   ]
  },
  {
   "cell_type": "code",
   "execution_count": null,
   "id": "7deb341b",
   "metadata": {},
   "outputs": [],
   "source": [
    "s_final_df = pd.concat([feature_df[['Number_of_vehicles_involved','Number_of_casualties','Hour_of_Day']],encoded_df3], axis=1)\n",
    "s_final_df.head()"
   ]
  },
  {
   "cell_type": "code",
   "execution_count": null,
   "id": "407b5d07",
   "metadata": {},
   "outputs": [],
   "source": [
    "# train and test split and building baseline model to predict target features\n",
    "X_trn2, X_tst2, y_trn2, y_tst2 = train_test_split(s_final_df, y_en, test_size=0.2, random_state=42)\n",
    "\n",
    "# modelling using random forest baseline\n",
    "rf = RandomForestClassifier(n_estimators=700, max_depth=20, random_state=42)\n",
    "rf.fit(X_trn2, y_trn2)\n",
    "\n",
    "# predicting on test data\n",
    "predics2 = rf.predict(X_tst2)"
   ]
  },
  {
   "cell_type": "code",
   "execution_count": null,
   "id": "7135059d",
   "metadata": {},
   "outputs": [],
   "source": [
    "X_trn2.info()"
   ]
  },
  {
   "cell_type": "code",
   "execution_count": null,
   "id": "e9c60b22",
   "metadata": {},
   "outputs": [],
   "source": [
    "newd = X_tst2.sample(10)\n",
    "sampl_arr = np.array(newd.iloc[0]).reshape(1,-1)\n",
    "sampl_arr"
   ]
  },
  {
   "cell_type": "code",
   "execution_count": null,
   "id": "b54ef056",
   "metadata": {},
   "outputs": [],
   "source": [
    "classif_re2 = classification_report(y_tst2,predics2)\n",
    "print(classif_re2)"
   ]
  },
  {
   "cell_type": "code",
   "execution_count": null,
   "id": "0d4cdea3",
   "metadata": {},
   "outputs": [],
   "source": [
    "f1score2 = f1_score(y_tst2,predics2, average='weighted')\n",
    "print(f1score2)"
   ]
  },
  {
   "cell_type": "code",
   "execution_count": null,
   "id": "9133c0be",
   "metadata": {},
   "outputs": [],
   "source": [
    "joblib.dump(rf, \"RTA_MODEL.joblib\", compress=9)"
   ]
  },
  {
   "cell_type": "markdown",
   "id": "bf152beb",
   "metadata": {},
   "source": [
    "## Points to note:"
   ]
  },
  {
   "cell_type": "raw",
   "id": "14dafe53",
   "metadata": {},
   "source": [
    "-Handled missing values by replacing them as aUnknown, assuming those information might not have found during investigation\n",
    "-One-Hot encoding using pandas get_dummies\n",
    "-Feature selection using chi2 statistic - Selected 50 features from 106\n",
    "-Upsampling using SMOTENC for categorical(nominal) features\n",
    "-Baseline modelling using RF with default hyper parameters - (Test f1_score - 61%)\n",
    "-Tuned hyper parameters with n_estimaters = 800 and max_depth = 20 - (Test f1_Score - 88%)"
   ]
  },
  {
   "cell_type": "code",
   "execution_count": null,
   "id": "00c68006",
   "metadata": {},
   "outputs": [],
   "source": []
  }
 ],
 "metadata": {
  "kernelspec": {
   "display_name": "Python 3 (ipykernel)",
   "language": "python",
   "name": "python3"
  },
  "language_info": {
   "codemirror_mode": {
    "name": "ipython",
    "version": 3
   },
   "file_extension": ".py",
   "mimetype": "text/x-python",
   "name": "python",
   "nbconvert_exporter": "python",
   "pygments_lexer": "ipython3",
   "version": "3.11.2"
  },
  "vscode": {
   "interpreter": {
    "hash": "ad8362588c25cdd7693f147618822267f326b2a14c904523e943e192ae2b46e9"
   }
  }
 },
 "nbformat": 4,
 "nbformat_minor": 5
}
